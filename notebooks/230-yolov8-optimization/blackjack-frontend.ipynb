{
 "cells": [
  {
   "cell_type": "code",
   "execution_count": 1,
   "id": "0636f199-4953-4c3e-8474-fb5e8399ebbe",
   "metadata": {
    "tags": []
   },
   "outputs": [
    {
     "name": "stdout",
     "output_type": "stream",
     "text": [
      "Python 3.8.6\n"
     ]
    }
   ],
   "source": [
    "!python --version\n",
    "!pip install -q --upgrade pip\n",
    "!pip install -q pika 'ultralytics' onnx"
   ]
  },
  {
   "cell_type": "code",
   "execution_count": 2,
   "id": "f4db6c14-f9e8-457c-aacc-281e927c8e22",
   "metadata": {
    "tags": []
   },
   "outputs": [],
   "source": [
    "CONFIDENCE_NEEDED = .4\n",
    "PATOLIGHT='192.168.0.14'\n",
    "LABEL_X_DIST = 146\n",
    "LABEL_Y_DIST = 230\n",
    "LABEL_DIST_VARIANCE = .20"
   ]
  },
  {
   "cell_type": "code",
   "execution_count": 3,
   "id": "e1e397f0-0916-46ee-ac49-181489927723",
   "metadata": {
    "tags": []
   },
   "outputs": [
    {
     "name": "stdout",
     "output_type": "stream",
     "text": [
      "http://192.168.0.14/api/control\n"
     ]
    }
   ],
   "source": [
    "import urllib\n",
    "import json\n",
    "import time\n",
    "import os\n",
    "\n",
    "url='http://'+PATOLIGHT+'/api/control'\n",
    "print(url)\n",
    "\n",
    "def setup_robot():\n",
    "    print(\"Ready\")\n",
    "    command=url+\"?led=00003\" # White\n",
    "    res=urllib.request.urlopen(command)\n",
    "    time.sleep(5)\n",
    "    command=url+\"?alof=1\"\n",
    "    res=urllib.request.urlopen(command)\n",
    "\n",
    "def motion_hit(sp):\n",
    "    print(\"HIT ME!\")\n",
    "    command=url+\"?led=00030\" # Blue\n",
    "    res=urllib.request.urlopen(command)\n",
    "    time.sleep(5)\n",
    "    command=url+\"?alof=1\"\n",
    "    res=urllib.request.urlopen(command)\n",
    "\n",
    "    \n",
    "def motion_hold(sp):\n",
    "    print(\"I'm good. HOLD!\")\n",
    "    command=url+\"?led=00300\" # Green\n",
    "    res=urllib.request.urlopen(command)\n",
    "    time.sleep(5)\n",
    "    command=url+\"?alof=1\"\n",
    "    res=urllib.request.urlopen(command)\n",
    "    \n",
    "    \n",
    "def motion_bust(sp):\n",
    "    print(\"Awe maan!  Let's go to the slots\")\n",
    "    command=url+\"?led=10000\" # Red\n",
    "    res=urllib.request.urlopen(command)\n",
    "    time.sleep(5)\n",
    "    command=url+\"?alof=1\"\n",
    "    res=urllib.request.urlopen(command)\n",
    "    \n",
    "def motion_ready(sp):\n",
    "    print(\"Let's Play some Blackjack!\")\n",
    "    command=url+\"?led=11111\" # White\n",
    "    res=urllib.request.urlopen(command)\n",
    "    time.sleep(5)\n",
    "    command=url+\"?alof=1\"\n",
    "    res=urllib.request.urlopen(command)"
   ]
  },
  {
   "cell_type": "code",
   "execution_count": 4,
   "id": "95a3f32b-b369-490e-b303-b702cc850e5d",
   "metadata": {
    "tags": []
   },
   "outputs": [],
   "source": [
    "def score_hand(hand):\n",
    "    score = 0\n",
    "    aceCount = 0\n",
    "    for card in hand:\n",
    "        print(card[0])\n",
    "        if card[0] in {'K','Q','J'}:\n",
    "            score += 10\n",
    "        elif card[0] == 'A':\n",
    "            aceCount+=1\n",
    "        elif card[0] == '1' and card[1] == '0':\n",
    "            score += 10\n",
    "        else:\n",
    "            score += int(card[0])\n",
    "    print(\"Ace count: \" + str(aceCount))\n",
    "    if aceCount == 2 and score == 0:\n",
    "        #only have 2 aces, count 1 as value 11 and the other as value 1\n",
    "        score = 12\n",
    "    elif aceCount == 2 and score > 9:\n",
    "        #can't count as 12, need to score both as value 1\n",
    "        score += 2\n",
    "    elif aceCount == 2 and score <= 9:\n",
    "        #add 12, one is value 11, one is value 1\n",
    "        score += 12\n",
    "    elif aceCount == 1 and score == 0:\n",
    "        #only have one ace\n",
    "        score = 11\n",
    "    elif aceCount == 1 and score > 10:\n",
    "        #counting as 11 would bust\n",
    "        score += 1\n",
    "    elif aceCount == 1 and score <= 10:\n",
    "        #count as 11\n",
    "        score += 11\n",
    "    elif aceCount > 2:\n",
    "        #applying simple rule here :-)\n",
    "        score += aceCount\n",
    "\n",
    "    return score"
   ]
  },
  {
   "cell_type": "code",
   "execution_count": 5,
   "id": "14d00faf-c66b-4a92-ab25-6dcd34e84f7e",
   "metadata": {
    "tags": []
   },
   "outputs": [],
   "source": [
    "global myHand\n",
    "myHand = {}\n",
    "global prev_card\n",
    "prev_card = ''\n",
    "\n",
    "def add_keys_nested_dict(d, keys):\n",
    "    for key in keys:\n",
    "        if key not in d:\n",
    "            d[key] = {}\n",
    "        d = d[key]\n",
    "    d.setdefault(keys[-1], 1)\n",
    "    \n",
    "def check_opposite_label(x, y):\n",
    "    for card, details in myHand.items():\n",
    "        print(details)\n",
    "        if len(details) > 0:\n",
    "            if abs(details['x'] - x) <= (LABEL_X_DIST + LABEL_DIST_VARIANCE*LABEL_X_DIST) and abs(details['y'] - y) <= (LABEL_Y_DIST + LABEL_DIST_VARIANCE*LABEL_Y_DIST):\n",
    "                print(\"second label from captured card: \" + card)\n",
    "                return card\n",
    "    return ''\n",
    "\n",
    "prev_score=0\n",
    "\n",
    "def card_inference(msg, prev_card):\n",
    "  global myHand\n",
    "  global prev_score\n",
    "  hand_score = 0\n",
    "  print(\" [x] Received \" + str(msg))\n",
    "  cardSeen = json.loads(msg)\n",
    "  card = cardSeen[\"class\"]\n",
    "\n",
    "  if float(cardSeen[\"score\"])>CONFIDENCE_NEEDED and card not in myHand.keys():\n",
    "        if card == \"NONE\":\n",
    "            myHand = {}\n",
    "            motion_ready(80)\n",
    "        else:\n",
    "            #check if we have another card recorded at roughly same location, replace if confidence higher\n",
    "            overlapping_card = check_opposite_label(float(cardSeen['x1']), float(cardSeen['y1']))\n",
    "            if len(overlapping_card) > 0 and myHand[overlapping_card]['confidence'] < float(cardSeen[\"score\"]):\n",
    "                del myHand[overlapping_card]\n",
    "                myHand[card] = {}\n",
    "                myHand[card]['x'] = float(cardSeen['x1'])\n",
    "                myHand[card]['y'] = float(cardSeen['y1'])\n",
    "                myHand[card]['confidence'] = float(cardSeen[\"score\"])\n",
    "            if len(overlapping_card) == 0:\n",
    "                myHand[card] = {}\n",
    "                myHand[card]['x'] = float(cardSeen['x1'])\n",
    "                myHand[card]['y'] = float(cardSeen['y1'])\n",
    "                myHand[card]['confidence'] = float(cardSeen[\"score\"])\n",
    "                \n",
    "            hand_score = score_hand(myHand)\n",
    "            \n",
    "            if hand_score != prev_score:\n",
    "                prev_score = hand_score\n",
    "                if hand_score > 21:\n",
    "                    motion_bust(50)\n",
    "                elif hand_score > 15:\n",
    "                    motion_hold(50)\n",
    "                else: \n",
    "                    motion_hit(50)\n",
    "        print('My Hand:' + str(myHand) + ', score: ' + str(hand_score))\n",
    "  return card"
   ]
  },
  {
   "cell_type": "code",
   "execution_count": 6,
   "id": "b7313003-e043-4ae5-91f7-62f1c6e32357",
   "metadata": {
    "tags": []
   },
   "outputs": [
    {
     "name": "stdout",
     "output_type": "stream",
     "text": [
      "default_user_6zhHiTST6cePTcMNvg6 YfrMJSlmL-GoAKxLenbJ4iwOM66YuDl5\n"
     ]
    },
    {
     "data": {
      "text/plain": [
       "<METHOD(['channel_number=1', 'frame_type=1', \"method=<Queue.DeclareOk(['consumer_count=0', 'message_count=11489', 'queue=inferencing_stream'])>\"])>"
      ]
     },
     "execution_count": 6,
     "metadata": {},
     "output_type": "execute_result"
    }
   ],
   "source": [
    "import pika, os\n",
    "\n",
    "rabbitmq_hostname = os.environ.get(\n",
    "    'AMQP_HOSTNAME', 'localhost'\n",
    ")\n",
    "rabbitmq_port = os.environ.get(\n",
    "    'AMQP_PORT', '5672'\n",
    ")\n",
    "rabbitmq_user = os.environ.get(\n",
    "    'AMQP_USER', 'user'\n",
    ")\n",
    "rabbitmq_password = os.environ.get(\n",
    "    'AMQP_PASSWORD', 'guest'\n",
    ")\n",
    "\n",
    "print (rabbitmq_user, rabbitmq_password)\n",
    "credentials = pika.PlainCredentials(rabbitmq_user, rabbitmq_password)\n",
    "parameters = pika.ConnectionParameters(rabbitmq_hostname,\n",
    "                                       rabbitmq_port,\n",
    "                                       '/',\n",
    "                                       credentials)\n",
    "\n",
    "connection = pika.BlockingConnection(parameters)\n",
    "channel = connection.channel() # start a channel\n",
    "\n",
    "# Declare a Stream, named test_stream\n",
    "channel.queue_declare(\n",
    "  queue='inferencing_stream',\n",
    "      durable=True,\n",
    "  arguments={\"x-queue-type\": \"stream\", \"x-max-age\": \"1m\"}\n",
    ")"
   ]
  },
  {
   "cell_type": "code",
   "execution_count": 7,
   "id": "194f412d-328f-40fd-8e4a-f997a815cce8",
   "metadata": {
    "tags": []
   },
   "outputs": [
    {
     "data": {
      "text/plain": [
       "'ctag1.d95efadc5e744118af62e9037ebf95e5'"
      ]
     },
     "execution_count": 7,
     "metadata": {},
     "output_type": "execute_result"
    }
   ],
   "source": [
    "def ack_message(channel, delivery_tag):\n",
    "    \"\"\"Note that `channel` must be the same pika channel instance via which\n",
    "    the message being ACKed was retrieved (AMQP protocol constraint).\n",
    "    \"\"\"\n",
    "    if channel.is_open:\n",
    "        channel.basic_ack(delivery_tag)\n",
    "\n",
    "# create a function which is called on incoming messages\n",
    "def hande_inference_message(ch, method, properties, body):\n",
    "  #print(body)\n",
    "  global prev_card\n",
    "  prev_card = card_inference(body, prev_card)\n",
    "  ack_message(ch,method.delivery_tag)\n",
    "\n",
    "# Set the consumer QoS prefetch\n",
    "channel.basic_qos(\n",
    "  prefetch_count=100\n",
    ")\n",
    "\n",
    "# Consume messages published to the stream\n",
    "channel.basic_consume(\n",
    "  'inferencing_stream',\n",
    "  hande_inference_message,\n",
    "  arguments={\"x-stream-offset\": \"last\"}\n",
    ")"
   ]
  },
  {
   "cell_type": "code",
   "execution_count": null,
   "id": "86a31fa7-c876-4587-80a2-e54863ef8e9e",
   "metadata": {
    "tags": []
   },
   "outputs": [
    {
     "name": "stdout",
     "output_type": "stream",
     "text": [
      "Ready\n",
      " [x] Received b'{\"class\": \"NONE\", \"score\": \"1\", \"x1\": \"0\", \"y1\": \"0\" }'\n",
      "Let's Play some Blackjack!\n",
      "My Hand:{}, score: 0\n"
     ]
    }
   ],
   "source": [
    "mc = setup_robot()\n",
    "\n",
    "# start consuming (blocks)\n",
    "channel.start_consuming()\n",
    "\n",
    "dealMore=True\n",
    "\n",
    "connection.close()\n",
    "print(myHand)"
   ]
  },
  {
   "cell_type": "code",
   "execution_count": null,
   "id": "3686dfe5-c287-4dc4-be68-d042415bde9e",
   "metadata": {},
   "outputs": [],
   "source": []
  }
 ],
 "metadata": {
  "kernelspec": {
   "display_name": "Python 3 (ipykernel)",
   "language": "python",
   "name": "python3"
  },
  "language_info": {
   "codemirror_mode": {
    "name": "ipython",
    "version": 3
   },
   "file_extension": ".py",
   "mimetype": "text/x-python",
   "name": "python",
   "nbconvert_exporter": "python",
   "pygments_lexer": "ipython3",
   "version": "3.8.6"
  }
 },
 "nbformat": 4,
 "nbformat_minor": 5
}
