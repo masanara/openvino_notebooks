{
 "cells": [
  {
   "cell_type": "code",
   "execution_count": 1,
   "id": "0636f199-4953-4c3e-8474-fb5e8399ebbe",
   "metadata": {
    "tags": []
   },
   "outputs": [
    {
     "name": "stdout",
     "output_type": "stream",
     "text": [
      "Python 3.8.6\n"
     ]
    }
   ],
   "source": [
    "!python --version\n",
    "!pip install -q --upgrade pip\n",
    "!pip install -q pika ultralytics"
   ]
  },
  {
   "cell_type": "code",
   "execution_count": 2,
   "id": "d2565c47-8e81-4c10-b252-5dbeb7319e57",
   "metadata": {
    "tags": []
   },
   "outputs": [
    {
     "data": {
      "text/plain": [
       "['CPU', 'GPU']"
      ]
     },
     "execution_count": 2,
     "metadata": {},
     "output_type": "execute_result"
    }
   ],
   "source": [
    "from openvino.runtime import Core\n",
    "\n",
    "core = Core()\n",
    "core.available_devices"
   ]
  },
  {
   "cell_type": "code",
   "execution_count": 3,
   "id": "0a8307e3-196b-4bc7-91f5-065a4acef888",
   "metadata": {
    "tags": []
   },
   "outputs": [],
   "source": [
    "from typing import Tuple, Dict\n",
    "import cv2\n",
    "import numpy as np\n",
    "from PIL import Image\n",
    "from pathlib import Path\n",
    "from ultralytics import YOLO\n",
    "from ultralytics.utils.plotting import colors\n",
    "from notebook_utils import download_file, VideoPlayer\n",
    "\n",
    "models_dir = Path('.')\n",
    "models_dir.mkdir(exist_ok=True)\n",
    "\n",
    "DET_MODEL_NAME = \"card-detect-0728\"\n",
    "det_model = YOLO(models_dir / f'{DET_MODEL_NAME}.pt')\n",
    "\n",
    "SEG_MODEL_NAME = \"card-segment-08823\"\n",
    "seg_model = YOLO(models_dir / f'{SEG_MODEL_NAME}.pt')\n",
    "\n",
    "# object detection model\n",
    "det_model_path = models_dir / f\"{DET_MODEL_NAME}_openvino_model/{DET_MODEL_NAME}.xml\"\n",
    "if not det_model_path.exists():\n",
    "    det_model.export(format=\"openvino\", dynamic=True, half=False)\n",
    "\n",
    "# instance segmentation model\n",
    "seg_model_path = models_dir / f\"{SEG_MODEL_NAME}_openvino_model/{SEG_MODEL_NAME}.xml\"\n",
    "if not seg_model_path.exists():\n",
    "    seg_model.export(format=\"openvino\", dynamic=True, half=False)"
   ]
  },
  {
   "cell_type": "code",
   "execution_count": null,
   "id": "bd4475df-44d5-4b0d-9e2f-f5e63d4a6bc9",
   "metadata": {
    "tags": []
   },
   "outputs": [
    {
     "name": "stdout",
     "output_type": "stream",
     "text": [
      "{0: '10C', 1: '10D', 2: '10H', 3: '10S', 4: '2C', 5: '2D', 6: '2H', 7: '2S', 8: '3C', 9: '3D', 10: '3H', 11: '3S', 12: '4C', 13: '4D', 14: '4H', 15: '4S', 16: '5C', 17: '5D', 18: '5H', 19: '5S', 20: '6C', 21: '6D', 22: '6H', 23: '6S', 24: '7C', 25: '7D', 26: '7H', 27: '7S', 28: '8C', 29: '8D', 30: '8H', 31: '8S', 32: '9C', 33: '9D', 34: '9H', 35: '9S', 36: 'AC', 37: 'AD', 38: 'AH', 39: 'AS', 40: 'JC', 41: 'JD', 42: 'JH', 43: 'JS', 44: 'KC', 45: 'KD', 46: 'KH', 47: 'KS', 48: 'QC', 49: 'QD', 50: 'QH', 51: 'QS'}\n",
      "['CPU', 'GPU']\n",
      "rtsp://192.168.0.21:8554/unicast\n",
      "default_user_iy16lc_VzGgMiBClror LgV0ssj947mLMVhkPiCXUKfesaAh3LFU\n",
      "inferencing diagnostics - {}\n"
     ]
    }
   ],
   "source": [
    "!RTSP_SRC='rtsp://192.168.0.21:8554/unicast' python3 blackjack-backend.py"
   ]
  },
  {
   "cell_type": "code",
   "execution_count": null,
   "id": "b5f1b2fd-2324-4d69-8690-e63a33819481",
   "metadata": {},
   "outputs": [],
   "source": []
  }
 ],
 "metadata": {
  "kernelspec": {
   "display_name": "Python 3 (ipykernel)",
   "language": "python",
   "name": "python3"
  },
  "language_info": {
   "codemirror_mode": {
    "name": "ipython",
    "version": 3
   },
   "file_extension": ".py",
   "mimetype": "text/x-python",
   "name": "python",
   "nbconvert_exporter": "python",
   "pygments_lexer": "ipython3",
   "version": "3.8.6"
  }
 },
 "nbformat": 4,
 "nbformat_minor": 5
}
